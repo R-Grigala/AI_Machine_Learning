{
 "cells": [
  {
   "cell_type": "code",
   "execution_count": 1,
   "id": "e162b227-bf14-4a41-a5bd-c11fa231b3ec",
   "metadata": {},
   "outputs": [],
   "source": [
    "import csv\n",
    "import random\n",
    "\n",
    "\n",
    "from sklearn.model_selection import train_test_split"
   ]
  },
  {
   "cell_type": "code",
   "execution_count": null,
   "id": "6ecf6993-edb0-4ee6-9f97-544c38c23cc9",
   "metadata": {},
   "outputs": [],
   "source": [
    "from sklearn.linear_model import Perceptron\n",
    "from sklearn.neighbors import KNeighborsClassifier"
   ]
  },
  {
   "cell_type": "code",
   "execution_count": 2,
   "id": "6d56dfda-e726-4316-a528-5a00efda9a04",
   "metadata": {},
   "outputs": [],
   "source": [
    "from sklearn import svm\n",
    "from sklearn.naive_bayes import GaussianNB"
   ]
  },
  {
   "cell_type": "code",
   "execution_count": null,
   "id": "7f7938bf-19b6-41c6-b9b1-50ff835c325c",
   "metadata": {},
   "outputs": [],
   "source": [
    "#model = Perceptron()\n",
    "#model = KNeighborsClassifier(n_neighbors=1)"
   ]
  },
  {
   "cell_type": "code",
   "execution_count": 3,
   "id": "716b882c-5e89-4cc1-a5f4-fa1b594cc042",
   "metadata": {},
   "outputs": [],
   "source": [
    "#model = svm.SVC()\n",
    "model = GaussianNB()"
   ]
  },
  {
   "cell_type": "code",
   "execution_count": 4,
   "id": "df513403-2fde-48cf-9140-a8c5706ba9f7",
   "metadata": {},
   "outputs": [],
   "source": [
    "# Read data in from file\n",
    "with open(\"banknotes.csv\") as f:\n",
    "    reader = csv.reader(f)\n",
    "    next(reader)\n",
    "\n",
    "    data = []\n",
    "    for row in reader:\n",
    "        data.append({\"evidence\": [float(cell) for cell in row[:4]],\"label\": \"real\" if row[4] == \"0\" else \"fake\"})"
   ]
  },
  {
   "cell_type": "code",
   "execution_count": 20,
   "id": "990c4e0b-d97b-4bfc-a292-fae4b158f664",
   "metadata": {},
   "outputs": [
    {
     "name": "stdout",
     "output_type": "stream",
     "text": [
      "{'evidence': [-0.89569, 3.0025, -3.6067, -3.4457], 'label': 'fake'}\n",
      "{'evidence': [3.4769, -0.15314, 2.53, 2.4495], 'label': 'real'}\n",
      "{'evidence': [3.9102, 6.065, -2.4534, -0.68234], 'label': 'real'}\n",
      "{'evidence': [0.60731, 3.9544, -4.772, -4.4853], 'label': 'fake'}\n",
      "{'evidence': [2.3718, 7.4908, 0.015989, -1.7414], 'label': 'real'}\n",
      "{'evidence': [-2.2153, 11.9625, 0.078538, -7.7853], 'label': 'real'}\n",
      "{'evidence': [3.9433, 2.5017, 1.5215, 0.903], 'label': 'real'}\n",
      "{'evidence': [3.931, 1.8541, -0.023425, 1.2314], 'label': 'real'}\n",
      "{'evidence': [3.9719, 1.0367, 0.75973, 1.0013], 'label': 'real'}\n",
      "{'evidence': [0.55298, -3.4619, 1.7048, 1.1008], 'label': 'fake'}\n",
      "------------\n",
      "[{'evidence': [-0.89569, 3.0025, -3.6067, -3.4457], 'label': 'fake'}, {'evidence': [3.4769, -0.15314, 2.53, 2.4495], 'label': 'real'}, {'evidence': [3.9102, 6.065, -2.4534, -0.68234], 'label': 'real'}, {'evidence': [0.60731, 3.9544, -4.772, -4.4853], 'label': 'fake'}, {'evidence': [2.3718, 7.4908, 0.015989, -1.7414], 'label': 'real'}, {'evidence': [-2.2153, 11.9625, 0.078538, -7.7853], 'label': 'real'}, {'evidence': [3.9433, 2.5017, 1.5215, 0.903], 'label': 'real'}, {'evidence': [3.931, 1.8541, -0.023425, 1.2314], 'label': 'real'}, {'evidence': [3.9719, 1.0367, 0.75973, 1.0013], 'label': 'real'}, {'evidence': [0.55298, -3.4619, 1.7048, 1.1008], 'label': 'fake'}]\n"
     ]
    }
   ],
   "source": [
    "# list comprehention template [expression for value in iterable if condition]\n",
    "[print(line) for line in data[:10]]\n",
    "print('------------')\n",
    "print(data[:10])"
   ]
  },
  {
   "cell_type": "code",
   "execution_count": null,
   "id": "a0d345a1-e2c2-4780-82e7-a20d06a27799",
   "metadata": {},
   "outputs": [],
   "source": [
    "# Separate data into training and testing groups\n",
    "evidence = [row[\"evidence\"] for row in data]\n",
    "labels = [row[\"label\"] for row in data]\n",
    "\n",
    "X_training, X_testing, y_training, y_testing = train_test_split(evidence, labels, test_size=0.2)"
   ]
  },
  {
   "cell_type": "code",
   "execution_count": 22,
   "id": "f3fe4a55-cb1c-4be3-81be-32541cc05ad0",
   "metadata": {},
   "outputs": [
    {
     "name": "stdout",
     "output_type": "stream",
     "text": [
      "<class 'list'> <class 'list'>\n",
      "<class 'list'> <class 'list'>\n"
     ]
    }
   ],
   "source": [
    "print(type(X_training), type(X_testing))\n",
    "print(type(y_training), type(y_testing))"
   ]
  },
  {
   "cell_type": "code",
   "execution_count": 30,
   "id": "481e1828-4909-4a6c-bb66-6468514e151d",
   "metadata": {},
   "outputs": [
    {
     "data": {
      "text/plain": [
       "GaussianNB()"
      ]
     },
     "execution_count": 30,
     "metadata": {},
     "output_type": "execute_result"
    }
   ],
   "source": [
    "# Train the model\n",
    "model.fit(X_training, y_training)"
   ]
  },
  {
   "cell_type": "code",
   "execution_count": 31,
   "id": "01490b3d-49ab-4367-aeb0-8262f1e72c78",
   "metadata": {},
   "outputs": [],
   "source": [
    "# Make predictions on the testing set\n",
    "predictions = model.predict(X_testing)"
   ]
  },
  {
   "cell_type": "code",
   "execution_count": 32,
   "id": "a52df7b2-1133-4c96-a4f3-c0824a0e50eb",
   "metadata": {},
   "outputs": [],
   "source": [
    "# Compute how well we performed\n",
    "correct = sum([y == p for y, p in zip(y_testing, predictions)])\n",
    "incorrect = sum([y != p for y, p in zip(y_testing, predictions)])\n",
    "total = len(predictions)"
   ]
  },
  {
   "cell_type": "code",
   "execution_count": 37,
   "id": "8a1fdcc6-6626-4cd4-9ab3-73ecf38b0726",
   "metadata": {},
   "outputs": [
    {
     "name": "stdout",
     "output_type": "stream",
     "text": [
      "[([-0.28696, 3.1784, -3.5767, -3.1896], 'fake'), ([-1.7344, 2.0175, 7.7618, 0.93532], 'real'), ([0.11806, 0.39108, -0.98223, 0.42843], 'fake'), ([-0.33729, -0.64976, 7.6659, 0.72326], 'real'), ([1.2572, 4.8731, -5.2861, -5.8741], 'fake'), ([-0.55648, 3.2136, -3.3085, -2.7965], 'fake'), ([0.3292, -4.4552, 4.5718, -0.9888], 'real'), ([0.5195, -3.2633, 3.0895, -0.9849], 'real'), ([-1.7781, 0.8546, 7.1303, 0.027572], 'real'), ([0.91315, 3.3377, -4.0557, -1.6741], 'fake'), ([0.025013, 3.3998, -4.4327, -4.2655], 'fake'), ([1.5799, -4.7076, 7.9186, -1.5487], 'real'), ([0.40614, 1.3492, -1.4501, -0.55949], 'fake'), ([1.0552, 1.1857, -2.6411, 0.11033], 'fake'), ([1.3183, 1.9017, -3.3111, 0.065071], 'fake'), ([0.5195, -3.2633, 3.0895, -0.9849], 'real'), ([1.0117, 0.9022, -2.3506, 0.42714], 'fake'), ([0.26637, 0.73252, -0.67891, 0.03533], 'fake'), ([0.5195, -3.2633, 3.0895, -0.9849], 'real'), ([-0.55008, 2.8659, -1.6488, -2.4319], 'fake'), ([0.61652, 3.8944, -4.7275, -4.3948], 'fake'), ([-0.24811, -0.17797, 4.9068, 0.15429], 'real'), ([0.23874, 2.0879, -3.3522, -0.66553], 'fake'), ([2.0922, -6.81, 8.4636, -0.60216], 'real'), ([0.22432, -0.52147, -0.40386, 1.2017], 'fake'), ([-0.24745, 1.9368, -2.4697, -0.80518], 'fake'), ([-0.40857, 3.0977, -2.9607, -2.6892], 'fake'), ([0.15423, 0.11794, -1.6823, 0.59524], 'fake'), ([-2.0897, 10.8265, 2.3603, -3.4198], 'real'), ([1.3638, -4.7759, 8.4182, -1.8836], 'real'), ([-0.014902, -1.0243, -0.94024, 0.64955], 'fake'), ([-2.7143, 11.4535, 2.1092, -3.9629], 'real'), ([1.2198, 2.0982, -3.1954, 0.12843], 'fake'), ([0.11032, 1.9741, -3.3668, -0.65259], 'fake'), ([0.7049, 0.17174, -1.7859, 0.36119], 'fake'), ([1.3451, 0.23589, -1.8785, 1.3258], 'fake'), ([0.5195, -3.2633, 3.0895, -0.9849], 'real'), ([1.9476, -4.7738, 8.527, -1.8668], 'real'), ([0.47368, 3.3605, -4.5064, -4.0431], 'fake')]\n"
     ]
    }
   ],
   "source": [
    "# list comprehention template [expression for value in iterable if condition]\n",
    "\n",
    "missed_bills = [(X,y) for X, y, p in zip(X_testing, y_testing, predictions) if y != p]\n",
    "print(missed_bills)"
   ]
  },
  {
   "cell_type": "code",
   "execution_count": 34,
   "id": "00a5a8d0-28e1-4a3e-9a4c-27e539ac53b5",
   "metadata": {},
   "outputs": [
    {
     "name": "stdout",
     "output_type": "stream",
     "text": [
      "Results for model GaussianNB\n",
      "Correct: 236\n",
      "Incorrect: 39\n",
      "Accuracy: 85.81818181818181%\n"
     ]
    }
   ],
   "source": [
    "# Print results\n",
    "print(f\"Results for model {type(model).__name__}\")\n",
    "print(f\"Correct: {correct}\")\n",
    "print(f\"Incorrect: {incorrect}\")\n",
    "print(f\"Accuracy: {100 * correct / total}%\")\n"
   ]
  },
  {
   "cell_type": "code",
   "execution_count": null,
   "id": "35291722-249e-43d4-b22c-290be6fe1d7c",
   "metadata": {},
   "outputs": [],
   "source": [
    "data[350]"
   ]
  },
  {
   "cell_type": "code",
   "execution_count": 41,
   "id": "b31b2357-12cd-4756-9f2b-6d4ec3c5396c",
   "metadata": {},
   "outputs": [
    {
     "name": "stdout",
     "output_type": "stream",
     "text": [
      "['real']\n"
     ]
    }
   ],
   "source": [
    "print(model.predict([[0.47368, 3.3605, -4.5064, -4.0431]]))"
   ]
  },
  {
   "cell_type": "code",
   "execution_count": 46,
   "id": "4fc3186b-d6e8-486d-9659-002cd74bfe6f",
   "metadata": {},
   "outputs": [
    {
     "name": "stdout",
     "output_type": "stream",
     "text": [
      "[0.47368, 3.3605, -4.5064, -4.0431]\n",
      "['real']\n"
     ]
    }
   ],
   "source": [
    "# check specific case with model, predict the value of the last bill from the missed_bills list\n",
    "print(missed_bills[-1][0])\n",
    "\n",
    "print(model.predict([missed_bills[-1][0]]))"
   ]
  },
  {
   "cell_type": "code",
   "execution_count": null,
   "id": "e8687ba9-0c30-4b34-b5dd-c328c86983e3",
   "metadata": {},
   "outputs": [],
   "source": []
  }
 ],
 "metadata": {
  "kernelspec": {
   "display_name": "Python 3 (ipykernel)",
   "language": "python",
   "name": "python3"
  },
  "language_info": {
   "codemirror_mode": {
    "name": "ipython",
    "version": 3
   },
   "file_extension": ".py",
   "mimetype": "text/x-python",
   "name": "python",
   "nbconvert_exporter": "python",
   "pygments_lexer": "ipython3",
   "version": "3.9.13"
  }
 },
 "nbformat": 4,
 "nbformat_minor": 5
}
