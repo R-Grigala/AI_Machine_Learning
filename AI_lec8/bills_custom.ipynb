{
 "cells": [
  {
   "cell_type": "code",
   "execution_count": 1,
   "id": "a16244e9-0201-4839-a7f6-67ec0193b777",
   "metadata": {},
   "outputs": [],
   "source": [
    "import csv\n",
    "import random"
   ]
  },
  {
   "cell_type": "code",
   "execution_count": null,
   "id": "9b6b0100-1cec-4037-b8a5-d8a160be1faf",
   "metadata": {},
   "outputs": [],
   "source": [
    "from sklearn.neighbors import KNeighborsClassifier\n",
    "from sklearn.linear_model import Perceptron"
   ]
  },
  {
   "cell_type": "code",
   "execution_count": 2,
   "id": "6c9ac8a7-1146-4852-9c3f-91bc9e55a128",
   "metadata": {},
   "outputs": [],
   "source": [
    "from sklearn import svm\n",
    "from sklearn.naive_bayes import GaussianNB"
   ]
  },
  {
   "cell_type": "code",
   "execution_count": null,
   "id": "f3e2233a-ec68-4ff1-93cd-aac8b2a264f7",
   "metadata": {},
   "outputs": [],
   "source": [
    "#model = KNeighborsClassifier(n_neighbors=3)\n",
    "#model = Perceptron()"
   ]
  },
  {
   "cell_type": "code",
   "execution_count": 3,
   "id": "5d79a004-71a2-4d8f-82b3-c5f9ade1b9b2",
   "metadata": {},
   "outputs": [],
   "source": [
    "model = svm.SVC()\n",
    "#model = GaussianNB()"
   ]
  },
  {
   "cell_type": "code",
   "execution_count": 4,
   "id": "bb59056f-33e3-4bf5-afdd-69ccebbf93aa",
   "metadata": {},
   "outputs": [
    {
     "name": "stdout",
     "output_type": "stream",
     "text": [
      "<class 'sklearn.svm._classes.SVC'>\n",
      "SVC\n",
      "{'decision_function_shape': 'ovr', 'break_ties': False, 'kernel': 'rbf', 'degree': 3, 'gamma': 'scale', 'coef0': 0.0, 'tol': 0.001, 'C': 1.0, 'nu': 0.0, 'epsilon': 0.0, 'shrinking': True, 'probability': False, 'cache_size': 200, 'class_weight': None, 'verbose': False, 'max_iter': -1, 'random_state': None}\n"
     ]
    }
   ],
   "source": [
    "print(type(model))\n",
    "print(type(model).__name__)\n",
    "print(model.__dict__)"
   ]
  },
  {
   "cell_type": "code",
   "execution_count": 5,
   "id": "b585ba57-b562-4553-b7e6-ecfbe5dcf796",
   "metadata": {},
   "outputs": [],
   "source": [
    "# read data from csv file, store as dict of evidence list and label list\n",
    "with open(\"banknotes.csv\") as f:\n",
    "    reader = csv.reader(f)\n",
    "    next(reader)\n",
    "\n",
    "    data = []\n",
    "    for row in reader:\n",
    "        evidence = []\n",
    "        label = ''\n",
    "        for i in range(4):\n",
    "            evidence.append(float(row[i]))\n",
    "            \n",
    "        if row[4] == '0':\n",
    "            label = 'real'\n",
    "        else:\n",
    "            label = 'fake'\n",
    "            \n",
    "        \n",
    "        data.append({\"evidence\": evidence,\"label\": label })"
   ]
  },
  {
   "cell_type": "code",
   "execution_count": 6,
   "id": "b51530d2-3131-4bf4-91f8-64e459451e7c",
   "metadata": {},
   "outputs": [
    {
     "name": "stdout",
     "output_type": "stream",
     "text": [
      "[{'evidence': [-0.89569, 3.0025, -3.6067, -3.4457], 'label': 'fake'}, {'evidence': [3.4769, -0.15314, 2.53, 2.4495], 'label': 'real'}, {'evidence': [3.9102, 6.065, -2.4534, -0.68234], 'label': 'real'}, {'evidence': [0.60731, 3.9544, -4.772, -4.4853], 'label': 'fake'}, {'evidence': [2.3718, 7.4908, 0.015989, -1.7414], 'label': 'real'}]\n",
      "1372\n"
     ]
    }
   ],
   "source": [
    "print(data[:5])\n",
    "print(len(data))"
   ]
  },
  {
   "cell_type": "code",
   "execution_count": 7,
   "id": "700e6f26-3e65-4802-a2aa-9b166dc68759",
   "metadata": {},
   "outputs": [],
   "source": [
    "# Separate data into training and testing groups\n",
    "split = int(0.2 * len(data))\n",
    "random.shuffle(data)\n",
    "testing = data[:split]\n",
    "training = data[split:]"
   ]
  },
  {
   "cell_type": "code",
   "execution_count": 8,
   "id": "b97b0eef-ce4d-45ae-b197-a5f8c1e6e2fb",
   "metadata": {},
   "outputs": [
    {
     "name": "stdout",
     "output_type": "stream",
     "text": [
      "training data size: 1098\n",
      "testing data size: 274\n"
     ]
    }
   ],
   "source": [
    "print('training data size:', len(training))\n",
    "print('testing data size:', len(testing))"
   ]
  },
  {
   "cell_type": "code",
   "execution_count": 9,
   "id": "95b10cb5-0181-4926-ad0f-580130a4d198",
   "metadata": {},
   "outputs": [
    {
     "data": {
      "text/plain": [
       "SVC()"
      ]
     },
     "execution_count": 9,
     "metadata": {},
     "output_type": "execute_result"
    }
   ],
   "source": [
    "# Train model on training set\n",
    "X_training = [row[\"evidence\"] for row in training]\n",
    "y_training = [row[\"label\"] for row in training]\n",
    "model.fit(X_training, y_training)"
   ]
  },
  {
   "cell_type": "code",
   "execution_count": 10,
   "id": "bedb14b3-eaad-4b37-966e-57f70431d4c7",
   "metadata": {},
   "outputs": [],
   "source": [
    "# Make predictions on the testing set\n",
    "X_testing = [row[\"evidence\"] for row in testing]\n",
    "y_testing = [row[\"label\"] for row in testing]\n",
    "\n",
    "\n",
    "predictions = model.predict(X_testing)"
   ]
  },
  {
   "cell_type": "code",
   "execution_count": 11,
   "id": "af67121b-5760-4144-9323-746fe4906b6f",
   "metadata": {},
   "outputs": [
    {
     "name": "stdout",
     "output_type": "stream",
     "text": [
      "<class 'numpy.ndarray'>\n",
      "(274,)\n"
     ]
    }
   ],
   "source": [
    "print(type(predictions))\n",
    "print(predictions.shape)"
   ]
  },
  {
   "cell_type": "code",
   "execution_count": 12,
   "id": "97e1cf92-ea7e-4ac2-9564-d3c091825250",
   "metadata": {},
   "outputs": [
    {
     "name": "stdout",
     "output_type": "stream",
     "text": [
      "['real' 'fake' 'fake' 'real' 'fake' 'real' 'real' 'real' 'real' 'fake']\n",
      "['real', 'fake', 'fake', 'real', 'fake', 'real', 'real', 'real', 'real', 'fake']\n"
     ]
    }
   ],
   "source": [
    "print(predictions[:10])\n",
    "print(y_testing[:10])"
   ]
  },
  {
   "cell_type": "code",
   "execution_count": 13,
   "id": "7d84217a-deb1-4101-94c3-6010fc6d7dc6",
   "metadata": {},
   "outputs": [],
   "source": [
    "# Model test\n",
    "correct = 0\n",
    "incorrect = 0\n",
    "total = 0\n",
    "for actual, predicted in zip(y_testing, predictions):\n",
    "    total += 1\n",
    "    if actual == predicted:\n",
    "        correct += 1\n",
    "    else:\n",
    "        incorrect += 1"
   ]
  },
  {
   "cell_type": "code",
   "execution_count": 14,
   "id": "5f7e2a3f-b2d8-4ef0-a716-e03e3798b506",
   "metadata": {},
   "outputs": [
    {
     "name": "stdout",
     "output_type": "stream",
     "text": [
      "Results for model SVC\n",
      "Correct: 273\n",
      "Incorrect: 1\n",
      "Accuracy: 99.63503649635037%\n"
     ]
    }
   ],
   "source": [
    "# Print results\n",
    "print(f\"Results for model {type(model).__name__}\")\n",
    "print(f\"Correct: {correct}\")\n",
    "print(f\"Incorrect: {incorrect}\")\n",
    "print(f\"Accuracy: {100 * correct / total}%\")"
   ]
  },
  {
   "cell_type": "code",
   "execution_count": 15,
   "id": "36eae425-2b44-47e2-90a9-abbf45d13d27",
   "metadata": {},
   "outputs": [
    {
     "name": "stdout",
     "output_type": "stream",
     "text": [
      "['fake']\n"
     ]
    }
   ],
   "source": [
    "print(model.predict([[0.60731, 3.9544, -4.772, -4.4853]]))"
   ]
  },
  {
   "cell_type": "code",
   "execution_count": null,
   "id": "ceb3503d-a47e-4b5a-9592-55541344116e",
   "metadata": {},
   "outputs": [],
   "source": []
  }
 ],
 "metadata": {
  "kernelspec": {
   "display_name": "Python 3 (ipykernel)",
   "language": "python",
   "name": "python3"
  },
  "language_info": {
   "codemirror_mode": {
    "name": "ipython",
    "version": 3
   },
   "file_extension": ".py",
   "mimetype": "text/x-python",
   "name": "python",
   "nbconvert_exporter": "python",
   "pygments_lexer": "ipython3",
   "version": "3.9.13"
  }
 },
 "nbformat": 4,
 "nbformat_minor": 5
}
