{
 "cells": [
  {
   "cell_type": "code",
   "execution_count": 1,
   "id": "972493c1-f322-4d5c-ac81-94d45f860c17",
   "metadata": {},
   "outputs": [],
   "source": [
    "import pandas as pd\n",
    "\n",
    "from sklearn.model_selection import train_test_split"
   ]
  },
  {
   "cell_type": "code",
   "execution_count": 2,
   "id": "9954a918-5757-4b98-84ad-678fded8753f",
   "metadata": {},
   "outputs": [],
   "source": [
    "from sklearn.linear_model import LinearRegression\n",
    "from sklearn.tree import DecisionTreeRegressor\n",
    "from sklearn.ensemble import RandomForestRegressor"
   ]
  },
  {
   "cell_type": "code",
   "execution_count": 3,
   "id": "e514b501-b2ec-409d-b314-5fd5193eccdc",
   "metadata": {},
   "outputs": [],
   "source": [
    "from sklearn.metrics import mean_squared_error, r2_score"
   ]
  },
  {
   "cell_type": "code",
   "execution_count": 4,
   "id": "cb1caead-7a61-4493-8ccc-5e4d8e61d7f6",
   "metadata": {},
   "outputs": [],
   "source": [
    "# import datasaet from csv file, store it as pandas dataframe\n",
    "data1 = pd.read_csv('Netflix.csv')"
   ]
  },
  {
   "cell_type": "code",
   "execution_count": 5,
   "id": "95b7469f-e7c9-465f-bd8f-7ed0408edac1",
   "metadata": {},
   "outputs": [
    {
     "name": "stdout",
     "output_type": "stream",
     "text": [
      "dataframe dimentions NxM (1009, 7)\n",
      "\n",
      "dataframe metadata:\n",
      "\n",
      "<class 'pandas.core.frame.DataFrame'>\n",
      "RangeIndex: 1009 entries, 0 to 1008\n",
      "Data columns (total 7 columns):\n",
      " #   Column     Non-Null Count  Dtype  \n",
      "---  ------     --------------  -----  \n",
      " 0   Date       1009 non-null   object \n",
      " 1   Open       1009 non-null   float64\n",
      " 2   High       1009 non-null   float64\n",
      " 3   Low        1009 non-null   float64\n",
      " 4   Close      1009 non-null   float64\n",
      " 5   Adj Close  1009 non-null   float64\n",
      " 6   Volume     1009 non-null   int64  \n",
      "dtypes: float64(5), int64(1), object(1)\n",
      "memory usage: 55.3+ KB\n",
      "\n",
      "dataframe first 7 columns:\n",
      "\n"
     ]
    },
    {
     "data": {
      "text/html": [
       "<div>\n",
       "<style scoped>\n",
       "    .dataframe tbody tr th:only-of-type {\n",
       "        vertical-align: middle;\n",
       "    }\n",
       "\n",
       "    .dataframe tbody tr th {\n",
       "        vertical-align: top;\n",
       "    }\n",
       "\n",
       "    .dataframe thead th {\n",
       "        text-align: right;\n",
       "    }\n",
       "</style>\n",
       "<table border=\"1\" class=\"dataframe\">\n",
       "  <thead>\n",
       "    <tr style=\"text-align: right;\">\n",
       "      <th></th>\n",
       "      <th>Date</th>\n",
       "      <th>Open</th>\n",
       "      <th>High</th>\n",
       "      <th>Low</th>\n",
       "      <th>Close</th>\n",
       "      <th>Adj Close</th>\n",
       "      <th>Volume</th>\n",
       "    </tr>\n",
       "  </thead>\n",
       "  <tbody>\n",
       "    <tr>\n",
       "      <th>0</th>\n",
       "      <td>2018-02-05</td>\n",
       "      <td>262.000000</td>\n",
       "      <td>267.899994</td>\n",
       "      <td>250.029999</td>\n",
       "      <td>254.259995</td>\n",
       "      <td>254.259995</td>\n",
       "      <td>11896100</td>\n",
       "    </tr>\n",
       "    <tr>\n",
       "      <th>1</th>\n",
       "      <td>2018-02-06</td>\n",
       "      <td>247.699997</td>\n",
       "      <td>266.700012</td>\n",
       "      <td>245.000000</td>\n",
       "      <td>265.720001</td>\n",
       "      <td>265.720001</td>\n",
       "      <td>12595800</td>\n",
       "    </tr>\n",
       "    <tr>\n",
       "      <th>2</th>\n",
       "      <td>2018-02-07</td>\n",
       "      <td>266.579987</td>\n",
       "      <td>272.450012</td>\n",
       "      <td>264.329987</td>\n",
       "      <td>264.559998</td>\n",
       "      <td>264.559998</td>\n",
       "      <td>8981500</td>\n",
       "    </tr>\n",
       "    <tr>\n",
       "      <th>3</th>\n",
       "      <td>2018-02-08</td>\n",
       "      <td>267.079987</td>\n",
       "      <td>267.619995</td>\n",
       "      <td>250.000000</td>\n",
       "      <td>250.100006</td>\n",
       "      <td>250.100006</td>\n",
       "      <td>9306700</td>\n",
       "    </tr>\n",
       "    <tr>\n",
       "      <th>4</th>\n",
       "      <td>2018-02-09</td>\n",
       "      <td>253.850006</td>\n",
       "      <td>255.800003</td>\n",
       "      <td>236.110001</td>\n",
       "      <td>249.470001</td>\n",
       "      <td>249.470001</td>\n",
       "      <td>16906900</td>\n",
       "    </tr>\n",
       "    <tr>\n",
       "      <th>5</th>\n",
       "      <td>2018-02-12</td>\n",
       "      <td>252.139999</td>\n",
       "      <td>259.149994</td>\n",
       "      <td>249.000000</td>\n",
       "      <td>257.950012</td>\n",
       "      <td>257.950012</td>\n",
       "      <td>8534900</td>\n",
       "    </tr>\n",
       "    <tr>\n",
       "      <th>6</th>\n",
       "      <td>2018-02-13</td>\n",
       "      <td>257.290009</td>\n",
       "      <td>261.410004</td>\n",
       "      <td>254.699997</td>\n",
       "      <td>258.269989</td>\n",
       "      <td>258.269989</td>\n",
       "      <td>6855200</td>\n",
       "    </tr>\n",
       "  </tbody>\n",
       "</table>\n",
       "</div>"
      ],
      "text/plain": [
       "         Date        Open        High         Low       Close   Adj Close  \\\n",
       "0  2018-02-05  262.000000  267.899994  250.029999  254.259995  254.259995   \n",
       "1  2018-02-06  247.699997  266.700012  245.000000  265.720001  265.720001   \n",
       "2  2018-02-07  266.579987  272.450012  264.329987  264.559998  264.559998   \n",
       "3  2018-02-08  267.079987  267.619995  250.000000  250.100006  250.100006   \n",
       "4  2018-02-09  253.850006  255.800003  236.110001  249.470001  249.470001   \n",
       "5  2018-02-12  252.139999  259.149994  249.000000  257.950012  257.950012   \n",
       "6  2018-02-13  257.290009  261.410004  254.699997  258.269989  258.269989   \n",
       "\n",
       "     Volume  \n",
       "0  11896100  \n",
       "1  12595800  \n",
       "2   8981500  \n",
       "3   9306700  \n",
       "4  16906900  \n",
       "5   8534900  \n",
       "6   6855200  "
      ]
     },
     "execution_count": 5,
     "metadata": {},
     "output_type": "execute_result"
    }
   ],
   "source": [
    "# examine imported data\n",
    "\n",
    "print('dataframe dimentions NxM',data1.shape)\n",
    "\n",
    "print('\\ndataframe metadata:\\n')\n",
    "data1.info()\n",
    "\n",
    "print('\\ndataframe first 7 columns:\\n')\n",
    "data1.head(7)"
   ]
  },
  {
   "cell_type": "code",
   "execution_count": 6,
   "id": "763acf2a-4cf0-47f8-b74f-3a88c30d0320",
   "metadata": {},
   "outputs": [
    {
     "name": "stdout",
     "output_type": "stream",
     "text": [
      "Date object type: <class 'str'>\n"
     ]
    }
   ],
   "source": [
    "# make sure that Date elements are datetime objects not just strings\n",
    "print('Date object type:', type(data1['Date'][0]))\n",
    "\n",
    "data1['Date'] = pd.to_datetime(data1['Date'])\n",
    "data1.set_index('Date', inplace=True)"
   ]
  },
  {
   "cell_type": "code",
   "execution_count": 7,
   "id": "2762e69e-7afc-4679-bd1a-33f8328669b9",
   "metadata": {},
   "outputs": [
    {
     "data": {
      "text/html": [
       "<div>\n",
       "<style scoped>\n",
       "    .dataframe tbody tr th:only-of-type {\n",
       "        vertical-align: middle;\n",
       "    }\n",
       "\n",
       "    .dataframe tbody tr th {\n",
       "        vertical-align: top;\n",
       "    }\n",
       "\n",
       "    .dataframe thead th {\n",
       "        text-align: right;\n",
       "    }\n",
       "</style>\n",
       "<table border=\"1\" class=\"dataframe\">\n",
       "  <thead>\n",
       "    <tr style=\"text-align: right;\">\n",
       "      <th></th>\n",
       "      <th>Open</th>\n",
       "      <th>High</th>\n",
       "      <th>Low</th>\n",
       "      <th>Close</th>\n",
       "      <th>Adj Close</th>\n",
       "      <th>Volume</th>\n",
       "    </tr>\n",
       "    <tr>\n",
       "      <th>Date</th>\n",
       "      <th></th>\n",
       "      <th></th>\n",
       "      <th></th>\n",
       "      <th></th>\n",
       "      <th></th>\n",
       "      <th></th>\n",
       "    </tr>\n",
       "  </thead>\n",
       "  <tbody>\n",
       "    <tr>\n",
       "      <th>2018-02-05</th>\n",
       "      <td>262.000000</td>\n",
       "      <td>267.899994</td>\n",
       "      <td>250.029999</td>\n",
       "      <td>254.259995</td>\n",
       "      <td>254.259995</td>\n",
       "      <td>11896100</td>\n",
       "    </tr>\n",
       "    <tr>\n",
       "      <th>2018-02-06</th>\n",
       "      <td>247.699997</td>\n",
       "      <td>266.700012</td>\n",
       "      <td>245.000000</td>\n",
       "      <td>265.720001</td>\n",
       "      <td>265.720001</td>\n",
       "      <td>12595800</td>\n",
       "    </tr>\n",
       "    <tr>\n",
       "      <th>2018-02-07</th>\n",
       "      <td>266.579987</td>\n",
       "      <td>272.450012</td>\n",
       "      <td>264.329987</td>\n",
       "      <td>264.559998</td>\n",
       "      <td>264.559998</td>\n",
       "      <td>8981500</td>\n",
       "    </tr>\n",
       "    <tr>\n",
       "      <th>2018-02-08</th>\n",
       "      <td>267.079987</td>\n",
       "      <td>267.619995</td>\n",
       "      <td>250.000000</td>\n",
       "      <td>250.100006</td>\n",
       "      <td>250.100006</td>\n",
       "      <td>9306700</td>\n",
       "    </tr>\n",
       "    <tr>\n",
       "      <th>2018-02-09</th>\n",
       "      <td>253.850006</td>\n",
       "      <td>255.800003</td>\n",
       "      <td>236.110001</td>\n",
       "      <td>249.470001</td>\n",
       "      <td>249.470001</td>\n",
       "      <td>16906900</td>\n",
       "    </tr>\n",
       "  </tbody>\n",
       "</table>\n",
       "</div>"
      ],
      "text/plain": [
       "                  Open        High         Low       Close   Adj Close  \\\n",
       "Date                                                                     \n",
       "2018-02-05  262.000000  267.899994  250.029999  254.259995  254.259995   \n",
       "2018-02-06  247.699997  266.700012  245.000000  265.720001  265.720001   \n",
       "2018-02-07  266.579987  272.450012  264.329987  264.559998  264.559998   \n",
       "2018-02-08  267.079987  267.619995  250.000000  250.100006  250.100006   \n",
       "2018-02-09  253.850006  255.800003  236.110001  249.470001  249.470001   \n",
       "\n",
       "              Volume  \n",
       "Date                  \n",
       "2018-02-05  11896100  \n",
       "2018-02-06  12595800  \n",
       "2018-02-07   8981500  \n",
       "2018-02-08   9306700  \n",
       "2018-02-09  16906900  "
      ]
     },
     "execution_count": 7,
     "metadata": {},
     "output_type": "execute_result"
    }
   ],
   "source": [
    "data1.head(5)"
   ]
  },
  {
   "cell_type": "code",
   "execution_count": 8,
   "id": "7579e75d-c76c-471b-9e2f-5ffb46eda894",
   "metadata": {},
   "outputs": [
    {
     "name": "stdout",
     "output_type": "stream",
     "text": [
      "Date object type: <class 'pandas._libs.tslibs.timestamps.Timestamp'> 2018-02-08 00:00:00\n"
     ]
    }
   ],
   "source": [
    "print('Date object type:', type(data1.index[3]), data1.index[3])"
   ]
  },
  {
   "cell_type": "code",
   "execution_count": 9,
   "id": "a6a95f9c-bf5d-47ae-941e-9eb63d70d640",
   "metadata": {},
   "outputs": [],
   "source": [
    "# Select features (X) and target (y) - here 'Close' is the target\n",
    "X = data1.drop(columns=['Close'])\n",
    "y = data1['Close']"
   ]
  },
  {
   "cell_type": "code",
   "execution_count": 10,
   "id": "fb4998d7-557c-45c6-907d-7e1eac2518b6",
   "metadata": {},
   "outputs": [
    {
     "name": "stdout",
     "output_type": "stream",
     "text": [
      "<class 'pandas.core.frame.DataFrame'>                   Open        High         Low   Adj Close    Volume\n",
      "Date                                                                \n",
      "2018-02-05  262.000000  267.899994  250.029999  254.259995  11896100\n",
      "2018-02-06  247.699997  266.700012  245.000000  265.720001  12595800\n",
      "2018-02-07  266.579987  272.450012  264.329987  264.559998   8981500\n",
      "2018-02-08  267.079987  267.619995  250.000000  250.100006   9306700\n",
      "2018-02-09  253.850006  255.800003  236.110001  249.470001  16906900\n",
      "<class 'pandas.core.series.Series'> Date\n",
      "2018-02-05    254.259995\n",
      "2018-02-06    265.720001\n",
      "2018-02-07    264.559998\n",
      "2018-02-08    250.100006\n",
      "2018-02-09    249.470001\n",
      "Name: Close, dtype: float64\n"
     ]
    }
   ],
   "source": [
    "print(type(X), X.head(5))  #pandas dataframe is 2 simentional columns with rows, columns\n",
    "print(type(y), y.head(5))  #pandas series is 1 dimentional array"
   ]
  },
  {
   "cell_type": "code",
   "execution_count": 11,
   "id": "1656d6d4-51a4-4735-8d13-1632a82a96bc",
   "metadata": {},
   "outputs": [],
   "source": [
    "#prepare datasets for modle training/testing\n",
    "X_train, X_test, y_train, y_test = train_test_split(X, y, test_size=0.2, random_state=10)"
   ]
  },
  {
   "cell_type": "code",
   "execution_count": 12,
   "id": "e4707fda-3b9f-45b6-9c9d-2b8c04009f2f",
   "metadata": {},
   "outputs": [
    {
     "name": "stdout",
     "output_type": "stream",
     "text": [
      "X_train (807, 5)\n",
      "y_train (807,)\n",
      "X_test (202, 5)\n",
      "y_test (202,)\n"
     ]
    }
   ],
   "source": [
    "print('X_train', X_train.shape)\n",
    "print('y_train', y_train.shape)\n",
    "print('X_test', X_test.shape)\n",
    "print('y_test', y_test.shape)"
   ]
  },
  {
   "cell_type": "code",
   "execution_count": 28,
   "id": "46153848-78e8-4073-902c-70a24690f215",
   "metadata": {},
   "outputs": [],
   "source": [
    "# choose linear regression model\n",
    "model1 = LinearRegression()"
   ]
  },
  {
   "cell_type": "code",
   "execution_count": 22,
   "id": "1860a147-e309-45c2-8851-c5394f931d50",
   "metadata": {},
   "outputs": [],
   "source": [
    "# choose decision tree model\n",
    "model1 = DecisionTreeRegressor()"
   ]
  },
  {
   "cell_type": "code",
   "execution_count": 15,
   "id": "b1a3569b-3609-405b-bd1d-586a74ed1117",
   "metadata": {},
   "outputs": [],
   "source": [
    "#choose random forest model\n",
    "model1 = RandomForestRegressor(n_estimators=25, random_state=42)"
   ]
  },
  {
   "cell_type": "code",
   "execution_count": 29,
   "id": "bec0841b-2ec1-4356-817b-b2ddbec82c81",
   "metadata": {},
   "outputs": [
    {
     "data": {
      "text/plain": [
       "LinearRegression()"
      ]
     },
     "execution_count": 29,
     "metadata": {},
     "output_type": "execute_result"
    }
   ],
   "source": [
    "# train the model\n",
    "model1.fit(X_train, y_train)"
   ]
  },
  {
   "cell_type": "code",
   "execution_count": 30,
   "id": "b8138f22-bbc9-4da3-979a-06634e7b9e3c",
   "metadata": {},
   "outputs": [],
   "source": [
    "# Make predictions\n",
    "predict = model1.predict(X_test)"
   ]
  },
  {
   "cell_type": "code",
   "execution_count": 31,
   "id": "b4b6896b-ecc7-469d-89dd-ffe4b2075422",
   "metadata": {},
   "outputs": [
    {
     "data": {
      "text/html": [
       "<div>\n",
       "<style scoped>\n",
       "    .dataframe tbody tr th:only-of-type {\n",
       "        vertical-align: middle;\n",
       "    }\n",
       "\n",
       "    .dataframe tbody tr th {\n",
       "        vertical-align: top;\n",
       "    }\n",
       "\n",
       "    .dataframe thead th {\n",
       "        text-align: right;\n",
       "    }\n",
       "</style>\n",
       "<table border=\"1\" class=\"dataframe\">\n",
       "  <thead>\n",
       "    <tr style=\"text-align: right;\">\n",
       "      <th></th>\n",
       "      <th>real</th>\n",
       "      <th>predicted</th>\n",
       "      <th>error</th>\n",
       "    </tr>\n",
       "    <tr>\n",
       "      <th>Date</th>\n",
       "      <th></th>\n",
       "      <th></th>\n",
       "      <th></th>\n",
       "    </tr>\n",
       "  </thead>\n",
       "  <tbody>\n",
       "    <tr>\n",
       "      <th>2021-08-19</th>\n",
       "      <td>543.710022</td>\n",
       "      <td>543.710022</td>\n",
       "      <td>-0.0</td>\n",
       "    </tr>\n",
       "    <tr>\n",
       "      <th>2021-02-02</th>\n",
       "      <td>548.159973</td>\n",
       "      <td>548.159973</td>\n",
       "      <td>-0.0</td>\n",
       "    </tr>\n",
       "    <tr>\n",
       "      <th>2019-11-20</th>\n",
       "      <td>305.160004</td>\n",
       "      <td>305.160004</td>\n",
       "      <td>0.0</td>\n",
       "    </tr>\n",
       "    <tr>\n",
       "      <th>2020-09-29</th>\n",
       "      <td>493.480011</td>\n",
       "      <td>493.480011</td>\n",
       "      <td>-0.0</td>\n",
       "    </tr>\n",
       "    <tr>\n",
       "      <th>2019-07-02</th>\n",
       "      <td>375.429993</td>\n",
       "      <td>375.429993</td>\n",
       "      <td>0.0</td>\n",
       "    </tr>\n",
       "    <tr>\n",
       "      <th>...</th>\n",
       "      <td>...</td>\n",
       "      <td>...</td>\n",
       "      <td>...</td>\n",
       "    </tr>\n",
       "    <tr>\n",
       "      <th>2018-03-21</th>\n",
       "      <td>316.480011</td>\n",
       "      <td>316.480011</td>\n",
       "      <td>0.0</td>\n",
       "    </tr>\n",
       "    <tr>\n",
       "      <th>2019-05-08</th>\n",
       "      <td>364.369995</td>\n",
       "      <td>364.369995</td>\n",
       "      <td>0.0</td>\n",
       "    </tr>\n",
       "    <tr>\n",
       "      <th>2018-11-08</th>\n",
       "      <td>317.920013</td>\n",
       "      <td>317.920013</td>\n",
       "      <td>0.0</td>\n",
       "    </tr>\n",
       "    <tr>\n",
       "      <th>2019-08-15</th>\n",
       "      <td>295.760010</td>\n",
       "      <td>295.760010</td>\n",
       "      <td>0.0</td>\n",
       "    </tr>\n",
       "    <tr>\n",
       "      <th>2019-04-26</th>\n",
       "      <td>374.850006</td>\n",
       "      <td>374.850006</td>\n",
       "      <td>0.0</td>\n",
       "    </tr>\n",
       "  </tbody>\n",
       "</table>\n",
       "<p>202 rows × 3 columns</p>\n",
       "</div>"
      ],
      "text/plain": [
       "                  real   predicted  error\n",
       "Date                                     \n",
       "2021-08-19  543.710022  543.710022   -0.0\n",
       "2021-02-02  548.159973  548.159973   -0.0\n",
       "2019-11-20  305.160004  305.160004    0.0\n",
       "2020-09-29  493.480011  493.480011   -0.0\n",
       "2019-07-02  375.429993  375.429993    0.0\n",
       "...                ...         ...    ...\n",
       "2018-03-21  316.480011  316.480011    0.0\n",
       "2019-05-08  364.369995  364.369995    0.0\n",
       "2018-11-08  317.920013  317.920013    0.0\n",
       "2019-08-15  295.760010  295.760010    0.0\n",
       "2019-04-26  374.850006  374.850006    0.0\n",
       "\n",
       "[202 rows x 3 columns]"
      ]
     },
     "execution_count": 31,
     "metadata": {},
     "output_type": "execute_result"
    }
   ],
   "source": [
    "# seperate dataset to compare model prediction and test dataset values\n",
    "compare = pd.DataFrame({'real': y_test, 'predicted' : predict})\n",
    "compare['error'] = (compare['real'] - compare['predicted']).round(10)\n",
    "compare"
   ]
  },
  {
   "cell_type": "code",
   "execution_count": 32,
   "id": "c90861c9-1593-4425-8734-771072857322",
   "metadata": {},
   "outputs": [
    {
     "data": {
      "text/html": [
       "<div>\n",
       "<style scoped>\n",
       "    .dataframe tbody tr th:only-of-type {\n",
       "        vertical-align: middle;\n",
       "    }\n",
       "\n",
       "    .dataframe tbody tr th {\n",
       "        vertical-align: top;\n",
       "    }\n",
       "\n",
       "    .dataframe thead th {\n",
       "        text-align: right;\n",
       "    }\n",
       "</style>\n",
       "<table border=\"1\" class=\"dataframe\">\n",
       "  <thead>\n",
       "    <tr style=\"text-align: right;\">\n",
       "      <th></th>\n",
       "      <th>real</th>\n",
       "      <th>predicted</th>\n",
       "      <th>error</th>\n",
       "    </tr>\n",
       "    <tr>\n",
       "      <th>Date</th>\n",
       "      <th></th>\n",
       "      <th></th>\n",
       "      <th></th>\n",
       "    </tr>\n",
       "  </thead>\n",
       "  <tbody>\n",
       "  </tbody>\n",
       "</table>\n",
       "</div>"
      ],
      "text/plain": [
       "Empty DataFrame\n",
       "Columns: [real, predicted, error]\n",
       "Index: []"
      ]
     },
     "execution_count": 32,
     "metadata": {},
     "output_type": "execute_result"
    }
   ],
   "source": [
    "compare[compare['error'] != 0.0]"
   ]
  },
  {
   "cell_type": "code",
   "execution_count": 33,
   "id": "669983d8-171f-4475-9b83-9a23baba81c2",
   "metadata": {},
   "outputs": [
    {
     "name": "stdout",
     "output_type": "stream",
     "text": [
      "LinearRegression - Mean Squared Error: 0.00000, R^2 Score: 1.00000\n"
     ]
    }
   ],
   "source": [
    "# Calculate performance metrics\n",
    "mse = mean_squared_error(y_test, predict)\n",
    "r2 = r2_score(y_test, predict)\n",
    "    \n",
    "print(f\"{type(model1).__name__} - Mean Squared Error: {mse:.5f}, R^2 Score: {r2:.5f}\")\n"
   ]
  },
  {
   "cell_type": "code",
   "execution_count": null,
   "id": "3ba6f6fc-e6f2-4319-8713-b8a029de0534",
   "metadata": {},
   "outputs": [],
   "source": []
  }
 ],
 "metadata": {
  "kernelspec": {
   "display_name": "Python 3 (ipykernel)",
   "language": "python",
   "name": "python3"
  },
  "language_info": {
   "codemirror_mode": {
    "name": "ipython",
    "version": 3
   },
   "file_extension": ".py",
   "mimetype": "text/x-python",
   "name": "python",
   "nbconvert_exporter": "python",
   "pygments_lexer": "ipython3",
   "version": "3.9.13"
  }
 },
 "nbformat": 4,
 "nbformat_minor": 5
}
