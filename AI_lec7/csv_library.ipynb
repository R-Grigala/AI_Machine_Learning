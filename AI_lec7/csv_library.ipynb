{
 "cells": [
  {
   "cell_type": "code",
   "execution_count": 1,
   "id": "a20f5898-7b85-4f21-b69c-10a2d23764c4",
   "metadata": {},
   "outputs": [],
   "source": [
    "import csv"
   ]
  },
  {
   "cell_type": "code",
   "execution_count": 2,
   "id": "72aa1a3c-8777-47f1-b00b-34fd3db67c0f",
   "metadata": {},
   "outputs": [],
   "source": [
    "with open ('banknotes.csv','r') as data:\n",
    "    lines = data.readlines()\n",
    "    \n"
   ]
  },
  {
   "cell_type": "code",
   "execution_count": 3,
   "id": "708286ef-6dce-4045-9f92-c7aa7820fcbc",
   "metadata": {},
   "outputs": [
    {
     "name": "stdout",
     "output_type": "stream",
     "text": [
      "<class 'list'>\n",
      "['variance,skewness,curtosis,entropy,class\\n', '-0.89569,3.0025,-3.6067,-3.4457,1\\n', '3.4769,-0.15314,2.53,2.4495,0\\n', '3.9102,6.065,-2.4534,-0.68234,0\\n', '0.60731,3.9544,-4.772,-4.4853,1\\n', '2.3718,7.4908,0.015989,-1.7414,0\\n', '-2.2153,11.9625,0.078538,-7.7853,0\\n', '3.9433,2.5017,1.5215,0.903,0\\n', '3.931,1.8541,-0.023425,1.2314,0\\n', '3.9719,1.0367,0.75973,1.0013,0\\n']\n"
     ]
    }
   ],
   "source": [
    "print(type(lines))\n",
    "print(lines[:10])"
   ]
  },
  {
   "cell_type": "code",
   "execution_count": 4,
   "id": "64ad24cf-25c2-4ac6-b98a-6567054c69b2",
   "metadata": {},
   "outputs": [],
   "source": [
    "with open ('banknotes.csv','r') as data:\n",
    "    reader = csv.reader(data)\n",
    "    next(reader) # skip the header\n",
    "    \n",
    "    bill_data = []\n",
    "    for line in reader:\n",
    "        bill_data.append(line)\n",
    "    \n",
    "    \n",
    "    "
   ]
  },
  {
   "cell_type": "code",
   "execution_count": 5,
   "id": "8ad04dbb-d5fc-45bb-8049-e70de34019bd",
   "metadata": {},
   "outputs": [
    {
     "name": "stdout",
     "output_type": "stream",
     "text": [
      "[['-0.89569', '3.0025', '-3.6067', '-3.4457', '1'], ['3.4769', '-0.15314', '2.53', '2.4495', '0'], ['3.9102', '6.065', '-2.4534', '-0.68234', '0'], ['0.60731', '3.9544', '-4.772', '-4.4853', '1'], ['2.3718', '7.4908', '0.015989', '-1.7414', '0'], ['-2.2153', '11.9625', '0.078538', '-7.7853', '0'], ['3.9433', '2.5017', '1.5215', '0.903', '0'], ['3.931', '1.8541', '-0.023425', '1.2314', '0'], ['3.9719', '1.0367', '0.75973', '1.0013', '0'], ['0.55298', '-3.4619', '1.7048', '1.1008', '1']]\n"
     ]
    }
   ],
   "source": [
    "print(bill_data[:10])"
   ]
  },
  {
   "cell_type": "code",
   "execution_count": null,
   "id": "7cea2cea-4478-4672-902b-6470fcab12d6",
   "metadata": {},
   "outputs": [],
   "source": []
  }
 ],
 "metadata": {
  "kernelspec": {
   "display_name": "venv",
   "language": "python",
   "name": "python3"
  },
  "language_info": {
   "codemirror_mode": {
    "name": "ipython",
    "version": 3
   },
   "file_extension": ".py",
   "mimetype": "text/x-python",
   "name": "python",
   "nbconvert_exporter": "python",
   "pygments_lexer": "ipython3",
   "version": "3.10.12"
  }
 },
 "nbformat": 4,
 "nbformat_minor": 5
}
